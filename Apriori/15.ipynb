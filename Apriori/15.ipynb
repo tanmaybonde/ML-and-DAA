{
 "cells": [
  {
   "cell_type": "code",
   "execution_count": 1,
   "id": "ee06b3e2",
   "metadata": {},
   "outputs": [],
   "source": [
    "import pandas as pd\n",
    "import numpy as np\n",
    "from apyori import apriori"
   ]
  },
  {
   "cell_type": "code",
   "execution_count": 2,
   "id": "f5b1a453",
   "metadata": {},
   "outputs": [],
   "source": [
    "df = pd.read_csv('Order1.csv')"
   ]
  },
  {
   "cell_type": "code",
   "execution_count": 3,
   "id": "c245641f",
   "metadata": {},
   "outputs": [],
   "source": [
    "transactions = []\n",
    "matrix = df.to_numpy()\n",
    "for i in range(df.shape[0]):\n",
    "    row = []\n",
    "    for j in range(df.shape[1]):\n",
    "        if(str(matrix[i][j]) != 'nan'):\n",
    "            row.append(str(matrix[i][j]))\n",
    "    transactions.append(row)"
   ]
  },
  {
   "cell_type": "code",
   "execution_count": 4,
   "id": "fcddddd0",
   "metadata": {},
   "outputs": [
    {
     "data": {
      "text/plain": [
       "38765"
      ]
     },
     "execution_count": 4,
     "metadata": {},
     "output_type": "execute_result"
    }
   ],
   "source": [
    "len(transactions)"
   ]
  },
  {
   "cell_type": "code",
   "execution_count": 7,
   "id": "c3aad1f3",
   "metadata": {},
   "outputs": [],
   "source": [
    "associations = list(apriori(transactions, min_support = 0.003, min_confidence = 0.003))"
   ]
  },
  {
   "cell_type": "code",
   "execution_count": 8,
   "id": "5616227e",
   "metadata": {},
   "outputs": [
    {
     "name": "stdout",
     "output_type": "stream",
     "text": [
      "73\n"
     ]
    }
   ],
   "source": [
    "print(len(associations))"
   ]
  },
  {
   "cell_type": "code",
   "execution_count": 9,
   "id": "751e4789",
   "metadata": {
    "scrolled": false
   },
   "outputs": [
    {
     "name": "stdout",
     "output_type": "stream",
     "text": [
      "RelationRecord(items=frozenset({'UHT-milk'}), support=0.00833225848058816, ordered_statistics=[OrderedStatistic(items_base=frozenset(), items_add=frozenset({'UHT-milk'}), confidence=0.00833225848058816, lift=1.0)]) \n",
      "\n",
      "RelationRecord(items=frozenset({'baking powder'}), support=0.003147168837869212, ordered_statistics=[OrderedStatistic(items_base=frozenset(), items_add=frozenset({'baking powder'}), confidence=0.003147168837869212, lift=1.0)]) \n",
      "\n",
      "RelationRecord(items=frozenset({'beef'}), support=0.013310976396233716, ordered_statistics=[OrderedStatistic(items_base=frozenset(), items_add=frozenset({'beef'}), confidence=0.013310976396233716, lift=1.0)]) \n",
      "\n",
      "RelationRecord(items=frozenset({'berries'}), support=0.008435444344124856, ordered_statistics=[OrderedStatistic(items_base=frozenset(), items_add=frozenset({'berries'}), confidence=0.008435444344124856, lift=1.0)]) \n",
      "\n",
      "RelationRecord(items=frozenset({'beverages'}), support=0.006474912936927641, ordered_statistics=[OrderedStatistic(items_base=frozenset(), items_add=frozenset({'beverages'}), confidence=0.006474912936927641, lift=1.0)]) \n",
      "\n",
      "RelationRecord(items=frozenset({'bottled beer'}), support=0.017722172062427446, ordered_statistics=[OrderedStatistic(items_base=frozenset(), items_add=frozenset({'bottled beer'}), confidence=0.017722172062427446, lift=1.0)]) \n",
      "\n",
      "RelationRecord(items=frozenset({'bottled water'}), support=0.02406810266993422, ordered_statistics=[OrderedStatistic(items_base=frozenset(), items_add=frozenset({'bottled water'}), confidence=0.02406810266993422, lift=1.0)]) \n",
      "\n",
      "RelationRecord(items=frozenset({'brown bread'}), support=0.014729782019863278, ordered_statistics=[OrderedStatistic(items_base=frozenset(), items_add=frozenset({'brown bread'}), confidence=0.014729782019863278, lift=1.0)]) \n",
      "\n",
      "RelationRecord(items=frozenset({'butter'}), support=0.013775312782148845, ordered_statistics=[OrderedStatistic(items_base=frozenset(), items_add=frozenset({'butter'}), confidence=0.013775312782148845, lift=1.0)]) \n",
      "\n",
      "RelationRecord(items=frozenset({'butter milk'}), support=0.006784470527537727, ordered_statistics=[OrderedStatistic(items_base=frozenset(), items_add=frozenset({'butter milk'}), confidence=0.006784470527537727, lift=1.0)]) \n",
      "\n",
      "RelationRecord(items=frozenset({'candy'}), support=0.005649426028634077, ordered_statistics=[OrderedStatistic(items_base=frozenset(), items_add=frozenset({'candy'}), confidence=0.005649426028634077, lift=1.0)]) \n",
      "\n",
      "RelationRecord(items=frozenset({'canned beer'}), support=0.018496066038952663, ordered_statistics=[OrderedStatistic(items_base=frozenset(), items_add=frozenset({'canned beer'}), confidence=0.018496066038952663, lift=1.0)]) \n",
      "\n",
      "RelationRecord(items=frozenset({'cat food'}), support=0.0045659744614987745, ordered_statistics=[OrderedStatistic(items_base=frozenset(), items_add=frozenset({'cat food'}), confidence=0.0045659744614987745, lift=1.0)]) \n",
      "\n",
      "RelationRecord(items=frozenset({'chewing gum'}), support=0.00466916032503547, ordered_statistics=[OrderedStatistic(items_base=frozenset(), items_add=frozenset({'chewing gum'}), confidence=0.00466916032503547, lift=1.0)]) \n",
      "\n",
      "RelationRecord(items=frozenset({'chicken'}), support=0.010886108603121373, ordered_statistics=[OrderedStatistic(items_base=frozenset(), items_add=frozenset({'chicken'}), confidence=0.010886108603121373, lift=1.0)]) \n",
      "\n",
      "RelationRecord(items=frozenset({'chocolate'}), support=0.009209338320650072, ordered_statistics=[OrderedStatistic(items_base=frozenset(), items_add=frozenset({'chocolate'}), confidence=0.009209338320650072, lift=1.0)]) \n",
      "\n",
      "RelationRecord(items=frozenset({'citrus fruit'}), support=0.02094673029794918, ordered_statistics=[OrderedStatistic(items_base=frozenset(), items_add=frozenset({'citrus fruit'}), confidence=0.02094673029794918, lift=1.0)]) \n",
      "\n",
      "RelationRecord(items=frozenset({'coffee'}), support=0.012279117760866761, ordered_statistics=[OrderedStatistic(items_base=frozenset(), items_add=frozenset({'coffee'}), confidence=0.012279117760866761, lift=1.0)]) \n",
      "\n",
      "RelationRecord(items=frozenset({'cream cheese '}), support=0.009235134786534245, ordered_statistics=[OrderedStatistic(items_base=frozenset(), items_add=frozenset({'cream cheese '}), confidence=0.009235134786534245, lift=1.0)]) \n",
      "\n",
      "RelationRecord(items=frozenset({'curd'}), support=0.013259383464465369, ordered_statistics=[OrderedStatistic(items_base=frozenset(), items_add=frozenset({'curd'}), confidence=0.013259383464465369, lift=1.0)]) \n",
      "\n",
      "RelationRecord(items=frozenset({'dessert'}), support=0.009183541854765897, ordered_statistics=[OrderedStatistic(items_base=frozenset(), items_add=frozenset({'dessert'}), confidence=0.009183541854765897, lift=1.0)]) \n",
      "\n",
      "RelationRecord(items=frozenset({'detergent'}), support=0.003353540564942603, ordered_statistics=[OrderedStatistic(items_base=frozenset(), items_add=frozenset({'detergent'}), confidence=0.003353540564942603, lift=1.0)]) \n",
      "\n",
      "RelationRecord(items=frozenset({'dishes'}), support=0.0034825228943634722, ordered_statistics=[OrderedStatistic(items_base=frozenset(), items_add=frozenset({'dishes'}), confidence=0.0034825228943634722, lift=1.0)]) \n",
      "\n",
      "RelationRecord(items=frozenset({'domestic eggs'}), support=0.01460079969044241, ordered_statistics=[OrderedStatistic(items_base=frozenset(), items_add=frozenset({'domestic eggs'}), confidence=0.01460079969044241, lift=1.0)]) \n",
      "\n",
      "RelationRecord(items=frozenset({'flour'}), support=0.0037662840190893845, ordered_statistics=[OrderedStatistic(items_base=frozenset(), items_add=frozenset({'flour'}), confidence=0.0037662840190893845, lift=1.0)]) \n",
      "\n",
      "RelationRecord(items=frozenset({'frankfurter'}), support=0.014961950212820844, ordered_statistics=[OrderedStatistic(items_base=frozenset(), items_add=frozenset({'frankfurter'}), confidence=0.014961950212820844, lift=1.0)]) \n",
      "\n",
      "RelationRecord(items=frozenset({'frozen meals'}), support=0.006500709402811815, ordered_statistics=[OrderedStatistic(items_base=frozenset(), items_add=frozenset({'frozen meals'}), confidence=0.006500709402811815, lift=1.0)]) \n",
      "\n",
      "RelationRecord(items=frozenset({'frozen vegetables'}), support=0.010963498000773893, ordered_statistics=[OrderedStatistic(items_base=frozenset(), items_add=frozenset({'frozen vegetables'}), confidence=0.010963498000773893, lift=1.0)]) \n",
      "\n",
      "RelationRecord(items=frozenset({'fruit/vegetable juice'}), support=0.013362569328002064, ordered_statistics=[OrderedStatistic(items_base=frozenset(), items_add=frozenset({'fruit/vegetable juice'}), confidence=0.013362569328002064, lift=1.0)]) \n",
      "\n",
      "RelationRecord(items=frozenset({'grapes'}), support=0.005675222494518251, ordered_statistics=[OrderedStatistic(items_base=frozenset(), items_add=frozenset({'grapes'}), confidence=0.005675222494518251, lift=1.0)]) \n",
      "\n",
      "RelationRecord(items=frozenset({'ham'}), support=0.00660389526634851, ordered_statistics=[OrderedStatistic(items_base=frozenset(), items_add=frozenset({'ham'}), confidence=0.00660389526634851, lift=1.0)]) \n",
      "\n",
      "RelationRecord(items=frozenset({'hamburger meat'}), support=0.008435444344124856, ordered_statistics=[OrderedStatistic(items_base=frozenset(), items_add=frozenset({'hamburger meat'}), confidence=0.008435444344124856, lift=1.0)]) \n",
      "\n",
      "RelationRecord(items=frozenset({'hard cheese'}), support=0.005675222494518251, ordered_statistics=[OrderedStatistic(items_base=frozenset(), items_add=frozenset({'hard cheese'}), confidence=0.005675222494518251, lift=1.0)]) \n",
      "\n",
      "RelationRecord(items=frozenset({'herbs'}), support=0.004101638075583645, ordered_statistics=[OrderedStatistic(items_base=frozenset(), items_add=frozenset({'herbs'}), confidence=0.004101638075583645, lift=1.0)]) \n",
      "\n",
      "RelationRecord(items=frozenset({'hygiene articles'}), support=0.0053656649039081645, ordered_statistics=[OrderedStatistic(items_base=frozenset(), items_add=frozenset({'hygiene articles'}), confidence=0.0053656649039081645, lift=1.0)]) \n",
      "\n",
      "RelationRecord(items=frozenset({'ice cream'}), support=0.005855797755707468, ordered_statistics=[OrderedStatistic(items_base=frozenset(), items_add=frozenset({'ice cream'}), confidence=0.005855797755707468, lift=1.0)]) \n",
      "\n",
      "RelationRecord(items=frozenset({'long life bakery product'}), support=0.0069392493228427705, ordered_statistics=[OrderedStatistic(items_base=frozenset(), items_add=frozenset({'long life bakery product'}), confidence=0.0069392493228427705, lift=1.0)]) \n",
      "\n",
      "RelationRecord(items=frozenset({'margarine'}), support=0.012666064749129369, ordered_statistics=[OrderedStatistic(items_base=frozenset(), items_add=frozenset({'margarine'}), confidence=0.012666064749129369, lift=1.0)]) \n",
      "\n",
      "RelationRecord(items=frozenset({'meat'}), support=0.0065523023345801625, ordered_statistics=[OrderedStatistic(items_base=frozenset(), items_add=frozenset({'meat'}), confidence=0.0065523023345801625, lift=1.0)]) \n",
      "\n",
      "RelationRecord(items=frozenset({'misc. beverages'}), support=0.0061395588804333805, ordered_statistics=[OrderedStatistic(items_base=frozenset(), items_add=frozenset({'misc. beverages'}), confidence=0.0061395588804333805, lift=1.0)]) \n",
      "\n",
      "RelationRecord(items=frozenset({'napkins'}), support=0.008641816071198245, ordered_statistics=[OrderedStatistic(items_base=frozenset(), items_add=frozenset({'napkins'}), confidence=0.008641816071198245, lift=1.0)]) \n",
      "\n",
      "RelationRecord(items=frozenset({'newspapers'}), support=0.015374693666967625, ordered_statistics=[OrderedStatistic(items_base=frozenset(), items_add=frozenset({'newspapers'}), confidence=0.015374693666967625, lift=1.0)]) \n",
      "\n",
      "RelationRecord(items=frozenset({'oil'}), support=0.00580420482393912, ordered_statistics=[OrderedStatistic(items_base=frozenset(), items_add=frozenset({'oil'}), confidence=0.00580420482393912, lift=1.0)]) \n",
      "\n",
      "RelationRecord(items=frozenset({'onions'}), support=0.00786792209467303, ordered_statistics=[OrderedStatistic(items_base=frozenset(), items_add=frozenset({'onions'}), confidence=0.00786792209467303, lift=1.0)]) \n",
      "\n",
      "RelationRecord(items=frozenset({'other vegetables'}), support=0.048961692248162, ordered_statistics=[OrderedStatistic(items_base=frozenset(), items_add=frozenset({'other vegetables'}), confidence=0.048961692248162, lift=1.0)]) \n",
      "\n",
      "RelationRecord(items=frozenset({'packaged fruit/vegetables'}), support=0.003301947633174255, ordered_statistics=[OrderedStatistic(items_base=frozenset(), items_add=frozenset({'packaged fruit/vegetables'}), confidence=0.003301947633174255, lift=1.0)]) \n",
      "\n",
      "RelationRecord(items=frozenset({'pasta'}), support=0.003121372371985038, ordered_statistics=[OrderedStatistic(items_base=frozenset(), items_add=frozenset({'pasta'}), confidence=0.003121372371985038, lift=1.0)]) \n",
      "\n",
      "RelationRecord(items=frozenset({'pastry'}), support=0.020250225719076486, ordered_statistics=[OrderedStatistic(items_base=frozenset(), items_add=frozenset({'pastry'}), confidence=0.020250225719076486, lift=1.0)]) \n",
      "\n",
      "RelationRecord(items=frozenset({'pickled vegetables'}), support=0.0034567264284792983, ordered_statistics=[OrderedStatistic(items_base=frozenset(), items_add=frozenset({'pickled vegetables'}), confidence=0.0034567264284792983, lift=1.0)]) \n",
      "\n",
      "RelationRecord(items=frozenset({'pip fruit'}), support=0.01919257061782536, ordered_statistics=[OrderedStatistic(items_base=frozenset(), items_add=frozenset({'pip fruit'}), confidence=0.01919257061782536, lift=1.0)]) \n",
      "\n",
      "RelationRecord(items=frozenset({'pork'}), support=0.01460079969044241, ordered_statistics=[OrderedStatistic(items_base=frozenset(), items_add=frozenset({'pork'}), confidence=0.01460079969044241, lift=1.0)]) \n",
      "\n",
      "RelationRecord(items=frozenset({'pot plants'}), support=0.0030439829743325163, ordered_statistics=[OrderedStatistic(items_base=frozenset(), items_add=frozenset({'pot plants'}), confidence=0.0030439829743325163, lift=1.0)]) \n",
      "\n",
      "RelationRecord(items=frozenset({'processed cheese'}), support=0.003921062814394428, ordered_statistics=[OrderedStatistic(items_base=frozenset(), items_add=frozenset({'processed cheese'}), confidence=0.003921062814394428, lift=1.0)]) \n",
      "\n",
      "RelationRecord(items=frozenset({'red/blush wine'}), support=0.004050045143815298, ordered_statistics=[OrderedStatistic(items_base=frozenset(), items_add=frozenset({'red/blush wine'}), confidence=0.004050045143815298, lift=1.0)]) \n",
      "\n",
      "RelationRecord(items=frozenset({'rolls/buns'}), support=0.04426673545724236, ordered_statistics=[OrderedStatistic(items_base=frozenset(), items_add=frozenset({'rolls/buns'}), confidence=0.04426673545724236, lift=1.0)]) \n",
      "\n",
      "RelationRecord(items=frozenset({'root vegetables'}), support=0.027628014961950213, ordered_statistics=[OrderedStatistic(items_base=frozenset(), items_add=frozenset({'root vegetables'}), confidence=0.027628014961950213, lift=1.0)]) \n",
      "\n",
      "RelationRecord(items=frozenset({'salty snack'}), support=0.007300399845221205, ordered_statistics=[OrderedStatistic(items_base=frozenset(), items_add=frozenset({'salty snack'}), confidence=0.007300399845221205, lift=1.0)]) \n",
      "\n",
      "RelationRecord(items=frozenset({'sausage'}), support=0.023835934476976656, ordered_statistics=[OrderedStatistic(items_base=frozenset(), items_add=frozenset({'sausage'}), confidence=0.023835934476976656, lift=1.0)]) \n",
      "\n",
      "RelationRecord(items=frozenset({'semi-finished bread'}), support=0.0036630981555526893, ordered_statistics=[OrderedStatistic(items_base=frozenset(), items_add=frozenset({'semi-finished bread'}), confidence=0.0036630981555526893, lift=1.0)]) \n",
      "\n",
      "RelationRecord(items=frozenset({'shopping bags'}), support=0.0188572165613311, ordered_statistics=[OrderedStatistic(items_base=frozenset(), items_add=frozenset({'shopping bags'}), confidence=0.0188572165613311, lift=1.0)]) \n",
      "\n",
      "RelationRecord(items=frozenset({'sliced cheese'}), support=0.00546885076744486, ordered_statistics=[OrderedStatistic(items_base=frozenset(), items_add=frozenset({'sliced cheese'}), confidence=0.00546885076744486, lift=1.0)]) \n",
      "\n",
      "RelationRecord(items=frozenset({'soda'}), support=0.03905584934863924, ordered_statistics=[OrderedStatistic(items_base=frozenset(), items_add=frozenset({'soda'}), confidence=0.03905584934863924, lift=1.0)]) \n",
      "\n",
      "RelationRecord(items=frozenset({'soft cheese'}), support=0.003921062814394428, ordered_statistics=[OrderedStatistic(items_base=frozenset(), items_add=frozenset({'soft cheese'}), confidence=0.003921062814394428, lift=1.0)]) \n",
      "\n",
      "RelationRecord(items=frozenset({'specialty bar'}), support=0.005417257835676512, ordered_statistics=[OrderedStatistic(items_base=frozenset(), items_add=frozenset({'specialty bar'}), confidence=0.005417257835676512, lift=1.0)]) \n",
      "\n",
      "RelationRecord(items=frozenset({'specialty chocolate'}), support=0.006191151812201728, ordered_statistics=[OrderedStatistic(items_base=frozenset(), items_add=frozenset({'specialty chocolate'}), confidence=0.006191151812201728, lift=1.0)]) \n",
      "\n",
      "RelationRecord(items=frozenset({'sugar'}), support=0.006836063459306075, ordered_statistics=[OrderedStatistic(items_base=frozenset(), items_add=frozenset({'sugar'}), confidence=0.006836063459306075, lift=1.0)]) \n",
      "\n",
      "RelationRecord(items=frozenset({'tropical fruit'}), support=0.026621952792467433, ordered_statistics=[OrderedStatistic(items_base=frozenset(), items_add=frozenset({'tropical fruit'}), confidence=0.026621952792467433, lift=1.0)]) \n",
      "\n",
      "RelationRecord(items=frozenset({'waffles'}), support=0.007223010447568683, ordered_statistics=[OrderedStatistic(items_base=frozenset(), items_add=frozenset({'waffles'}), confidence=0.007223010447568683, lift=1.0)]) \n",
      "\n",
      "RelationRecord(items=frozenset({'whipped/sour cream'}), support=0.0170772604153231, ordered_statistics=[OrderedStatistic(items_base=frozenset(), items_add=frozenset({'whipped/sour cream'}), confidence=0.0170772604153231, lift=1.0)]) \n",
      "\n",
      "RelationRecord(items=frozenset({'white bread'}), support=0.00933832065007094, ordered_statistics=[OrderedStatistic(items_base=frozenset(), items_add=frozenset({'white bread'}), confidence=0.00933832065007094, lift=1.0)]) \n",
      "\n",
      "RelationRecord(items=frozenset({'white wine'}), support=0.004540177995614601, ordered_statistics=[OrderedStatistic(items_base=frozenset(), items_add=frozenset({'white wine'}), confidence=0.004540177995614601, lift=1.0)]) \n",
      "\n",
      "RelationRecord(items=frozenset({'whole milk'}), support=0.06454275764220302, ordered_statistics=[OrderedStatistic(items_base=frozenset(), items_add=frozenset({'whole milk'}), confidence=0.06454275764220302, lift=1.0)]) \n",
      "\n",
      "RelationRecord(items=frozenset({'yogurt'}), support=0.03441248548948794, ordered_statistics=[OrderedStatistic(items_base=frozenset(), items_add=frozenset({'yogurt'}), confidence=0.03441248548948794, lift=1.0)]) \n",
      "\n"
     ]
    }
   ],
   "source": [
    "for x in associations:\n",
    "    print(x, '\\n')"
   ]
  }
 ],
 "metadata": {
  "kernelspec": {
   "display_name": "Python 3 (ipykernel)",
   "language": "python",
   "name": "python3"
  },
  "language_info": {
   "codemirror_mode": {
    "name": "ipython",
    "version": 3
   },
   "file_extension": ".py",
   "mimetype": "text/x-python",
   "name": "python",
   "nbconvert_exporter": "python",
   "pygments_lexer": "ipython3",
   "version": "3.9.4"
  }
 },
 "nbformat": 4,
 "nbformat_minor": 5
}
